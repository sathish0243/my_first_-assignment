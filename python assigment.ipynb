{
 "cells": [
  {
   "cell_type": "code",
   "execution_count": 1,
   "id": "2b3c4ea9-8fcb-4c14-a07e-452515680b9f",
   "metadata": {},
   "outputs": [],
   "source": [
    "#python assigment 1"
   ]
  },
  {
   "cell_type": "markdown",
   "id": "c32ec54a-19f0-4de3-af5d-f18a2f796653",
   "metadata": {},
   "source": [
    "1.explain the key features of Python that make it a popular choice for prgramming?"
   ]
  },
  {
   "cell_type": "markdown",
   "id": "5770bbf1-28fd-4e88-a85d-9b1f0c6ffa0b",
   "metadata": {},
   "source": [
    "In python we can easly understand the code"
   ]
  },
  {
   "cell_type": "markdown",
   "id": "6463deb4-eff8-4368-8d92-c6fd4f160cc0",
   "metadata": {},
   "source": [
    "in python programming there are lot of librares are there to explore"
   ]
  },
  {
   "cell_type": "markdown",
   "id": "c217046b-5707-402a-9cd2-fb61f43a00c4",
   "metadata": {},
   "source": [
    "readability,simplicity,automatic memory mangement"
   ]
  },
  {
   "cell_type": "raw",
   "id": "4b748faa-2081-47fc-ae07-cff90a5ec397",
   "metadata": {},
   "source": [
    "2. Describe the role of predefined keywords in Python and provide examples of how they are used in a prograrme"
   ]
  },
  {
   "cell_type": "raw",
   "id": "9f0f5cfc-f776-4027-8d53-6632d314ff05",
   "metadata": {},
   "source": [
    "> In python the predefined keywords plays a major role "
   ]
  },
  {
   "cell_type": "raw",
   "id": "4f4d0aec-48b8-41ed-9fe3-5f66f756fa90",
   "metadata": {},
   "source": [
    "> they used as the identifiers "
   ]
  },
  {
   "cell_type": "raw",
   "id": "59a443b1-7237-4032-a93e-21ea46b19b94",
   "metadata": {},
   "source": [
    "> they define the structure of the code"
   ]
  },
  {
   "cell_type": "raw",
   "id": "23cfbb89-be39-477b-8468-86ee6d1f8487",
   "metadata": {},
   "source": [
    "> there are some examples how the keywords are used in python"
   ]
  },
  {
   "cell_type": "code",
   "execution_count": 2,
   "id": "7e82a7db-27d0-4dc0-9309-b79331e78807",
   "metadata": {},
   "outputs": [],
   "source": [
    "# by using the type keyword"
   ]
  },
  {
   "cell_type": "code",
   "execution_count": 3,
   "id": "02e5149f-0b06-4502-ae43-2c7fada8237a",
   "metadata": {},
   "outputs": [
    {
     "data": {
      "text/plain": [
       "int"
      ]
     },
     "execution_count": 3,
     "metadata": {},
     "output_type": "execute_result"
    }
   ],
   "source": [
    "a=3\n",
    "type(a)"
   ]
  },
  {
   "cell_type": "code",
   "execution_count": 4,
   "id": "ad1949eb-fc9e-4e8b-8319-c0dc0ee46df2",
   "metadata": {},
   "outputs": [
    {
     "data": {
      "text/plain": [
       "str"
      ]
     },
     "execution_count": 4,
     "metadata": {},
     "output_type": "execute_result"
    }
   ],
   "source": [
    "a=\"sathish\"\n",
    "type(a)"
   ]
  },
  {
   "cell_type": "code",
   "execution_count": 5,
   "id": "bf58b9e0-e059-42b8-b1c7-4f1bc9afba26",
   "metadata": {},
   "outputs": [
    {
     "data": {
      "text/plain": [
       "True"
      ]
     },
     "execution_count": 5,
     "metadata": {},
     "output_type": "execute_result"
    }
   ],
   "source": [
    "bool(1)"
   ]
  },
  {
   "cell_type": "code",
   "execution_count": 9,
   "id": "3d9a61bb-f43c-463c-95ac-00d9d28f28c4",
   "metadata": {},
   "outputs": [
    {
     "data": {
      "text/plain": [
       "False"
      ]
     },
     "execution_count": 9,
     "metadata": {},
     "output_type": "execute_result"
    }
   ],
   "source": [
    "bool(0)"
   ]
  },
  {
   "cell_type": "raw",
   "id": "ed263958-0e72-465a-8152-f00d5884ad19",
   "metadata": {},
   "source": [
    "here some are the predefind keywords in python\n",
    "\n",
    "\n",
    "False      await      else       import     pass\n",
    "True       break      except     in        raise"
   ]
  },
  {
   "cell_type": "raw",
   "id": "b03aa301-d346-47b0-b9dd-d3aadf8bb019",
   "metadata": {},
   "source": [
    "3.compare and contrast mutable and immutable objects in python with examples."
   ]
  },
  {
   "cell_type": "raw",
   "id": "5a8996d9-f272-4d35-9b90-3c113453fd8a",
   "metadata": {},
   "source": [
    "* The word mutable describes about in a list we can change are edit we can easily edit the process is known as mutable\n",
    "* some examples are shown below"
   ]
  },
  {
   "cell_type": "code",
   "execution_count": 15,
   "id": "2df34787-8872-498b-b498-ae5e88a851f7",
   "metadata": {},
   "outputs": [
    {
     "data": {
      "text/plain": [
       "5"
      ]
     },
     "execution_count": 15,
     "metadata": {},
     "output_type": "execute_result"
    }
   ],
   "source": [
    "#examples\n",
    "list_cont=[3,\"sathish\",\"annemarie\",5,15.3]\n",
    "list_cont[3]"
   ]
  },
  {
   "cell_type": "code",
   "execution_count": 17,
   "id": "1371c179-1fe0-4b3e-b62d-7df974a33cbe",
   "metadata": {},
   "outputs": [],
   "source": [
    "list_cont[1]=\"kalki\""
   ]
  },
  {
   "cell_type": "code",
   "execution_count": 18,
   "id": "a664ff08-e2e4-4620-ba22-f4c98ce82cb5",
   "metadata": {},
   "outputs": [
    {
     "data": {
      "text/plain": [
       "[3, 'kalki', 'annemarie', 5, 15.3]"
      ]
     },
     "execution_count": 18,
     "metadata": {},
     "output_type": "execute_result"
    }
   ],
   "source": [
    "list_cont"
   ]
  },
  {
   "cell_type": "raw",
   "id": "d8b97d5f-3304-4689-9ab4-acf36d1fbbb3",
   "metadata": {},
   "source": [
    "*but in a string we can not change the elements in a string"
   ]
  },
  {
   "cell_type": "code",
   "execution_count": 19,
   "id": "4f36884e-bc63-47a4-95ac-a9079538691d",
   "metadata": {},
   "outputs": [
    {
     "data": {
      "text/plain": [
       "str"
      ]
     },
     "execution_count": 19,
     "metadata": {},
     "output_type": "execute_result"
    }
   ],
   "source": [
    "#examples\n",
    "a=\"modi\"\n",
    "type(a)"
   ]
  },
  {
   "cell_type": "code",
   "execution_count": 20,
   "id": "6a530709-6028-4345-9fe3-d8bd2ae4a839",
   "metadata": {},
   "outputs": [
    {
     "ename": "NameError",
     "evalue": "name 'gar' is not defined",
     "output_type": "error",
     "traceback": [
      "\u001b[0;31m---------------------------------------------------------------------------\u001b[0m",
      "\u001b[0;31mNameError\u001b[0m                                 Traceback (most recent call last)",
      "Cell \u001b[0;32mIn[20], line 1\u001b[0m\n\u001b[0;32m----> 1\u001b[0m a[\u001b[38;5;241m3\u001b[39m]\u001b[38;5;241m=\u001b[39m\u001b[43mgar\u001b[49m\n",
      "\u001b[0;31mNameError\u001b[0m: name 'gar' is not defined"
     ]
    }
   ],
   "source": [
    "a[3]=gar"
   ]
  },
  {
   "cell_type": "raw",
   "id": "45d099f2-a53b-4865-9a90-233796ff46fe",
   "metadata": {},
   "source": [
    "* from the error we can understant thet in a string we can not edit the elements this process called as immutability"
   ]
  },
  {
   "cell_type": "raw",
   "id": "5c12edd7-c28a-477e-b378-e5cd1c33d108",
   "metadata": {},
   "source": [
    " 4.Disscuss different types of operators in python and provide examples how they are used."
   ]
  },
  {
   "cell_type": "raw",
   "id": "20f16347-7568-4128-8f98-89026223ed57",
   "metadata": {},
   "source": [
    "*There are 7 different types of operators in python they are\n",
    "Arthamatic,comparison,logical,assigment,identity,bitwise \n",
    "we can see the examples of these operators"
   ]
  },
  {
   "cell_type": "code",
   "execution_count": 21,
   "id": "aaa1917f-1d66-4072-86c9-3b41c30e47b2",
   "metadata": {},
   "outputs": [
    {
     "data": {
      "text/plain": [
       "30"
      ]
     },
     "execution_count": 21,
     "metadata": {},
     "output_type": "execute_result"
    }
   ],
   "source": [
    "#Arthamatic operator\n",
    "a=10\n",
    "b=20\n",
    "a+b"
   ]
  },
  {
   "cell_type": "code",
   "execution_count": 22,
   "id": "66b62345-ef2e-4c31-8bc7-6b1b42d9d6ef",
   "metadata": {},
   "outputs": [
    {
     "data": {
      "text/plain": [
       "True"
      ]
     },
     "execution_count": 22,
     "metadata": {},
     "output_type": "execute_result"
    }
   ],
   "source": [
    "#comparision operator\n",
    "2==2"
   ]
  },
  {
   "cell_type": "code",
   "execution_count": 27,
   "id": "dd921a8c-cc77-44a6-ad9d-58729cba9d96",
   "metadata": {},
   "outputs": [
    {
     "data": {
      "text/plain": [
       "0"
      ]
     },
     "execution_count": 27,
     "metadata": {},
     "output_type": "execute_result"
    }
   ],
   "source": [
    "#logical operator\n",
    "True-True"
   ]
  },
  {
   "cell_type": "code",
   "execution_count": 28,
   "id": "b7eb8dd5-e812-439f-8449-468067fc2eba",
   "metadata": {},
   "outputs": [
    {
     "data": {
      "text/plain": [
       "3"
      ]
     },
     "execution_count": 28,
     "metadata": {},
     "output_type": "execute_result"
    }
   ],
   "source": [
    "#assigment operator\n",
    "a=3\n",
    "a"
   ]
  },
  {
   "cell_type": "raw",
   "id": "62410147-6330-431e-a70a-a84f7f7f7063",
   "metadata": {},
   "source": [
    "5.explain type casting in pyhon with example."
   ]
  },
  {
   "cell_type": "raw",
   "id": "2c1fc747-5c05-4d15-ac8c-a0bfeb7442f8",
   "metadata": {},
   "source": [
    "*IN some cases when we are going to do some athematic operations in between string and an integer there will be throw some error so by using type casting method we can easily convert the string into integer then we can add code will be exeuted without error "
   ]
  },
  {
   "cell_type": "code",
   "execution_count": 29,
   "id": "f58c9826-effb-4b7a-a363-8c2e8113fe4a",
   "metadata": {},
   "outputs": [
    {
     "ename": "TypeError",
     "evalue": "can only concatenate str (not \"int\") to str",
     "output_type": "error",
     "traceback": [
      "\u001b[0;31m---------------------------------------------------------------------------\u001b[0m",
      "\u001b[0;31mTypeError\u001b[0m                                 Traceback (most recent call last)",
      "Cell \u001b[0;32mIn[29], line 3\u001b[0m\n\u001b[1;32m      1\u001b[0m a\u001b[38;5;241m=\u001b[39m\u001b[38;5;124m\"\u001b[39m\u001b[38;5;124m1\u001b[39m\u001b[38;5;124m\"\u001b[39m\n\u001b[1;32m      2\u001b[0m b\u001b[38;5;241m=\u001b[39m\u001b[38;5;241m2\u001b[39m\n\u001b[0;32m----> 3\u001b[0m \u001b[43ma\u001b[49m\u001b[38;5;241;43m+\u001b[39;49m\u001b[43mb\u001b[49m\n",
      "\u001b[0;31mTypeError\u001b[0m: can only concatenate str (not \"int\") to str"
     ]
    }
   ],
   "source": [
    "a=\"1\"\n",
    "b=2\n",
    "a+b"
   ]
  },
  {
   "cell_type": "code",
   "execution_count": 30,
   "id": "34c4cbdd-5515-48fa-825e-14b8e2bf90a2",
   "metadata": {},
   "outputs": [
    {
     "data": {
      "text/plain": [
       "1"
      ]
     },
     "execution_count": 30,
     "metadata": {},
     "output_type": "execute_result"
    }
   ],
   "source": [
    "int(a)"
   ]
  },
  {
   "cell_type": "code",
   "execution_count": 31,
   "id": "a3eac437-c4ab-4ded-a0e7-6fe5e4a81c89",
   "metadata": {},
   "outputs": [
    {
     "ename": "TypeError",
     "evalue": "can only concatenate str (not \"int\") to str",
     "output_type": "error",
     "traceback": [
      "\u001b[0;31m---------------------------------------------------------------------------\u001b[0m",
      "\u001b[0;31mTypeError\u001b[0m                                 Traceback (most recent call last)",
      "Cell \u001b[0;32mIn[31], line 1\u001b[0m\n\u001b[0;32m----> 1\u001b[0m \u001b[43ma\u001b[49m\u001b[38;5;241;43m+\u001b[39;49m\u001b[43mb\u001b[49m\n",
      "\u001b[0;31mTypeError\u001b[0m: can only concatenate str (not \"int\") to str"
     ]
    }
   ],
   "source": [
    "a+b"
   ]
  },
  {
   "cell_type": "code",
   "execution_count": 32,
   "id": "af5532f2-92dc-463a-89be-45bd147c270d",
   "metadata": {},
   "outputs": [
    {
     "data": {
      "text/plain": [
       "3"
      ]
     },
     "execution_count": 32,
     "metadata": {},
     "output_type": "execute_result"
    }
   ],
   "source": [
    "int(a)+b"
   ]
  },
  {
   "cell_type": "raw",
   "id": "81e2b3ca-e112-4a89-ac03-5a7e0df8775b",
   "metadata": {},
   "source": [
    "6.How do conditional statements work in python ilustrate with examples."
   ]
  },
  {
   "cell_type": "raw",
   "id": "06553ab7-e8e9-4de0-9097-43c38bd9419f",
   "metadata": {},
   "source": [
    "There are four types of conditional statements in python there are \n",
    "*if\n",
    "*else\n",
    "*elif\n",
    "*nested if-else"
   ]
  },
  {
   "cell_type": "code",
   "execution_count": 33,
   "id": "0fa76efe-2028-440b-946c-ef7d73af9eeb",
   "metadata": {},
   "outputs": [
    {
     "name": "stdout",
     "output_type": "stream",
     "text": [
      "a is grater\n"
     ]
    }
   ],
   "source": [
    "#if\n",
    "a=10\n",
    "if a > 0:\n",
    "    print(\"a is grater\")"
   ]
  },
  {
   "cell_type": "code",
   "execution_count": 39,
   "id": "e3092d8c-9585-4c7a-ba2d-94ad8dc88d26",
   "metadata": {},
   "outputs": [
    {
     "name": "stdout",
     "output_type": "stream",
     "text": [
      "b is not garter\n"
     ]
    }
   ],
   "source": [
    "#if else\n",
    "b = 20\n",
    "if b>= 30:\n",
    "    print(\"b is grater\")\n",
    "else:\n",
    "    print(\"b is not garter\")\n"
   ]
  },
  {
   "cell_type": "code",
   "execution_count": 40,
   "id": "87dd2380-c4e6-463f-8f47-a35574ebf445",
   "metadata": {},
   "outputs": [
    {
     "name": "stdout",
     "output_type": "stream",
     "text": [
      "avg\n"
     ]
    }
   ],
   "source": [
    "#elif\n",
    "score=30\n",
    "if score>=40:\n",
    "    print(\"good\")\n",
    "elif score>=30:\n",
    "    print(\"avg\")\n",
    "else:\n",
    "    print(\"fail\")"
   ]
  },
  {
   "cell_type": "code",
   "execution_count": 48,
   "id": "8e960968-5cc7-45ec-bf19-5fb243134d01",
   "metadata": {},
   "outputs": [
    {
     "name": "stdout",
     "output_type": "stream",
     "text": [
      "You are eligible to vote in the USA.\n"
     ]
    }
   ],
   "source": [
    "#nested if-else\n",
    "age = 25\n",
    "country = \"USA\"\n",
    "\n",
    "if age >= 18:\n",
    "    if country == \"USA\":\n",
    "        print(\"You are eligible to vote in the USA.\")\n",
    "    else:\n",
    "        print(\"You may or may not be eligible to vote, depending on your country's laws.\")\n",
    "else:\n",
    "    print(\"You are not eligible to vote.\")"
   ]
  },
  {
   "cell_type": "raw",
   "id": "bac74887-b826-4c81-ac92-6a1e1bdce197",
   "metadata": {},
   "source": [
    "7.Discribe the different types of loops in python and there use cases with examples."
   ]
  },
  {
   "cell_type": "raw",
   "id": "4597e109-6595-4344-9fc6-93c7f4162559",
   "metadata": {},
   "source": [
    "*there are two types of loops are there in python they are\n",
    "while loop\n",
    "for loop"
   ]
  },
  {
   "cell_type": "code",
   "execution_count": 50,
   "id": "780523f5-08e0-4086-b8f2-a7d3ee241cb0",
   "metadata": {},
   "outputs": [
    {
     "name": "stdout",
     "output_type": "stream",
     "text": [
      "Factorial of 5: 120\n"
     ]
    }
   ],
   "source": [
    "#While loop\n",
    "n = 5\n",
    "factorial = 1\n",
    "while n > 0:\n",
    "    factorial *= n\n",
    "    n -= 1\n",
    "print(\"Factorial of 5:\", factorial)"
   ]
  },
  {
   "cell_type": "code",
   "execution_count": 51,
   "id": "27cd50a7-834d-4089-b3c6-04d74037cb82",
   "metadata": {},
   "outputs": [
    {
     "name": "stdout",
     "output_type": "stream",
     "text": [
      "0\n",
      "1\n",
      "2\n",
      "3\n",
      "4\n"
     ]
    }
   ],
   "source": [
    "#For loop\n",
    "for number in range(5):\n",
    "    print(number)"
   ]
  }
 ],
 "metadata": {
  "kernelspec": {
   "display_name": "Python 3 (ipykernel)",
   "language": "python",
   "name": "python3"
  },
  "language_info": {
   "codemirror_mode": {
    "name": "ipython",
    "version": 3
   },
   "file_extension": ".py",
   "mimetype": "text/x-python",
   "name": "python",
   "nbconvert_exporter": "python",
   "pygments_lexer": "ipython3",
   "version": "3.10.8"
  }
 },
 "nbformat": 4,
 "nbformat_minor": 5
}
